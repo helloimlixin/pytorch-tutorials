{
 "cells": [
  {
   "attachments": {},
   "cell_type": "markdown",
   "metadata": {},
   "source": [
    "# Tensors in PyTorch\n",
    "\n",
    "Tensors are multi-way arrays that can represent inputs/outputs of a model as well as the model parameters. In PyTorch, tensors are very [similar](https://pytorch.org/tutorials/beginner/blitz/tensor_tutorial.html#bridge-to-np-label) to the `ndarrays` in NumPy, except that in PyTorch tensors have been [optimized](https://pytorch.org/tutorials/beginner/basics/autogradqs_tutorial.html) to be able to run on hardware accelerators such as GPUs efficiently. Tensors in PyTorch can share the same underlying memory with NumPy arrays to avoid the computation costs for data copying. Tensors in PyTorch can also be optimized for automatic differentiation."
   ]
  },
  {
   "cell_type": "code",
   "execution_count": null,
   "metadata": {},
   "outputs": [],
   "source": []
  }
 ],
 "metadata": {
  "kernelspec": {
   "display_name": "research",
   "language": "python",
   "name": "python3"
  },
  "language_info": {
   "name": "python",
   "version": "3.10.9"
  },
  "orig_nbformat": 4
 },
 "nbformat": 4,
 "nbformat_minor": 2
}
