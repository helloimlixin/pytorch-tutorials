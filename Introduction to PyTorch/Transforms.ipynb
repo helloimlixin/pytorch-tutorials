{
 "cells": [
  {
   "attachments": {},
   "cell_type": "markdown",
   "metadata": {},
   "source": [
    "# Transforms\n",
    "\n",
    "In PyTorch, we use `Transforms` to process data and make it suitable for training. All `TorchVision` datasets have two parameters:\n",
    "- `transform` defines the feature-scope manipulations\n",
    "- `target_transform` defines the label-scope manipulations\n",
    "\n",
    "Take the FashionMNIST data for instance, the features are in PIL `Image` format, and the labels are integers corresponding to the classes. To make the data suitable for training, we need the features to be normalized tensors and the labels as one-hot encoders, which can be tackled with PyTorch's `ToTensor` and `Lambda` classes."
   ]
  },
  {
   "cell_type": "code",
   "execution_count": null,
   "metadata": {},
   "outputs": [],
   "source": []
  }
 ],
 "metadata": {
  "language_info": {
   "name": "python"
  },
  "orig_nbformat": 4
 },
 "nbformat": 4,
 "nbformat_minor": 2
}
