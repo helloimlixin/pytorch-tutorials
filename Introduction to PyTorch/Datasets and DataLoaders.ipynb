{
 "cells": [
  {
   "attachments": {},
   "cell_type": "markdown",
   "metadata": {},
   "source": [
    "# Datasets and DataLoaders in PyTorch\n",
    "\n",
    "For better readability and modularity, we can decouple the dataset code from the training code with the two data primitives provided by PyTorch: `torch.utils.data.DataLoader` and `torch.utils.data.Dataset`, where `Dataset` stores the samples and their corresponding labels, and `DataLoader` wraps an iterable around the `Dataset` to enable easy access to each sample.\n",
    "\n",
    "PyTorch provides some pre-loaded datasets (such as FashionMNIST) that subclass `torch.utils.data.Dataset`."
   ]
  },
  {
   "attachments": {},
   "cell_type": "markdown",
   "metadata": {},
   "source": [
    "## Loading the Dataset"
   ]
  },
  {
   "cell_type": "code",
   "execution_count": null,
   "metadata": {},
   "outputs": [],
   "source": []
  }
 ],
 "metadata": {
  "language_info": {
   "name": "python"
  },
  "orig_nbformat": 4
 },
 "nbformat": 4,
 "nbformat_minor": 2
}
