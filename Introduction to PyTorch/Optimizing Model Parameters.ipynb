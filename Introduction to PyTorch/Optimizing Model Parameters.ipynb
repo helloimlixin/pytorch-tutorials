{
 "cells": [
  {
   "cell_type": "markdown",
   "metadata": {
    "collapsed": false
   },
   "source": [
    "# Optimizing Model Parameters"
   ]
  },
  {
   "cell_type": "code",
   "execution_count": 1,
   "metadata": {},
   "outputs": [
    {
     "name": "stdout",
     "output_type": "stream",
     "text": [
      "Mon Apr 10 00:10:59 2023       \n",
      "+---------------------------------------------------------------------------------------+\n",
      "| NVIDIA-SMI 530.30.02              Driver Version: 531.18       CUDA Version: 12.1     |\n",
      "|-----------------------------------------+----------------------+----------------------+\n",
      "| GPU  Name                  Persistence-M| Bus-Id        Disp.A | Volatile Uncorr. ECC |\n",
      "| Fan  Temp  Perf            Pwr:Usage/Cap|         Memory-Usage | GPU-Util  Compute M. |\n",
      "|                                         |                      |               MIG M. |\n",
      "|=========================================+======================+======================|\n",
      "|   0  NVIDIA GeForce RTX 3060         On | 00000000:01:00.0  On |                  N/A |\n",
      "|  0%   54C    P8               21W / 170W|   1710MiB / 12288MiB |     10%      Default |\n",
      "|                                         |                      |                  N/A |\n",
      "+-----------------------------------------+----------------------+----------------------+\n",
      "                                                                                         \n",
      "+---------------------------------------------------------------------------------------+\n",
      "| Processes:                                                                            |\n",
      "|  GPU   GI   CI        PID   Type   Process name                            GPU Memory |\n",
      "|        ID   ID                                                             Usage      |\n",
      "|=======================================================================================|\n",
      "|  No running processes found                                                           |\n",
      "+---------------------------------------------------------------------------------------+\n"
     ]
    }
   ],
   "source": [
    "!nvidia-smi"
   ]
  },
  {
   "cell_type": "markdown",
   "metadata": {
    "collapsed": false
   },
   "source": [
    "## Prerequisites"
   ]
  },
  {
   "cell_type": "code",
   "execution_count": 2,
   "metadata": {
    "ExecuteTime": {
     "end_time": "2023-04-09T22:49:40.118012Z",
     "start_time": "2023-04-09T22:49:39.171547Z"
    },
    "collapsed": true,
    "pycharm": {
     "is_executing": true
    }
   },
   "outputs": [],
   "source": [
    "# required imports\n",
    "import torch\n",
    "from torch import nn\n",
    "from torch.utils.data import DataLoader\n",
    "from torchvision import datasets\n",
    "from torchvision.transforms import ToTensor"
   ]
  },
  {
   "cell_type": "code",
   "execution_count": 3,
   "metadata": {
    "ExecuteTime": {
     "end_time": "2023-04-09T22:50:46.063328Z",
     "start_time": "2023-04-09T22:50:45.966993Z"
    },
    "collapsed": false
   },
   "outputs": [],
   "source": [
    "# the training dataset\n",
    "training_data = datasets.FashionMNIST(\n",
    "    root='data',\n",
    "    train=True,\n",
    "    download=True,\n",
    "    transform=ToTensor()\n",
    ")"
   ]
  },
  {
   "cell_type": "code",
   "execution_count": 4,
   "metadata": {
    "ExecuteTime": {
     "end_time": "2023-04-09T23:00:55.385344Z",
     "start_time": "2023-04-09T23:00:55.373342Z"
    },
    "collapsed": false
   },
   "outputs": [],
   "source": [
    "# the test dataset\n",
    "test_data = datasets.FashionMNIST(\n",
    "    root=\"data\",\n",
    "    train=False,\n",
    "    download=True,\n",
    "    transform=ToTensor()\n",
    ")"
   ]
  },
  {
   "cell_type": "code",
   "execution_count": 5,
   "metadata": {
    "ExecuteTime": {
     "end_time": "2023-04-09T23:01:57.640668Z",
     "start_time": "2023-04-09T23:01:57.634657Z"
    },
    "collapsed": false
   },
   "outputs": [],
   "source": [
    "# initialize dataloaders with batch sizes.\n",
    "train_dataloader = DataLoader(training_data, batch_size=64)\n",
    "test_dataloader = DataLoader(test_data, batch_size=64)"
   ]
  },
  {
   "cell_type": "code",
   "execution_count": 6,
   "metadata": {
    "ExecuteTime": {
     "end_time": "2023-04-09T23:41:09.488954Z",
     "start_time": "2023-04-09T23:41:09.443413Z"
    },
    "collapsed": false
   },
   "outputs": [],
   "source": [
    "# define the network\n",
    "class NeuralNetwork(nn.Module):\n",
    "    def __init__(self):\n",
    "        super(NeuralNetwork, self).__init__()\n",
    "        self.flatten = nn.Flatten()\n",
    "        self.linear_relu_stack = nn.Sequential(\n",
    "            nn.Linear(28*28, 512),\n",
    "            nn.ReLU(),\n",
    "            nn.Linear(512, 512),\n",
    "            nn.ReLU(),\n",
    "            nn.Linear(512, 10)\n",
    "        )\n",
    "\n",
    "    def forward(self, x):\n",
    "        x = self.flatten(x)\n",
    "        logits = self.linear_relu_stack(x)\n",
    "\n",
    "        return logits"
   ]
  },
  {
   "cell_type": "code",
   "execution_count": 7,
   "metadata": {
    "ExecuteTime": {
     "end_time": "2023-04-09T23:41:14.002581Z",
     "start_time": "2023-04-09T23:41:13.979585Z"
    },
    "collapsed": false
   },
   "outputs": [],
   "source": [
    "model = NeuralNetwork()"
   ]
  },
  {
   "cell_type": "markdown",
   "metadata": {
    "collapsed": false
   },
   "source": [
    "## Hyperparameters for Optimization Tuning\n",
    "\n",
    "Hyperparameters allow tuning for the model optimization process by affecting model training and convergence."
   ]
  },
  {
   "cell_type": "code",
   "execution_count": 8,
   "metadata": {
    "ExecuteTime": {
     "end_time": "2023-04-09T23:42:34.952647Z",
     "start_time": "2023-04-09T23:42:34.948647Z"
    },
    "collapsed": false
   },
   "outputs": [],
   "source": [
    "learning_rate = 1e-3\n",
    "batch_size = 64\n",
    "epochs = 5"
   ]
  },
  {
   "cell_type": "markdown",
   "metadata": {
    "collapsed": false
   },
   "source": [
    "## Optimization Loop\n",
    "\n",
    "We can each iteration of the optimization loop an **epoch**, which is also one iteration over the entire dataset. Each epoch consists of two main components,\n",
    "- The *train* loop: iterate over the training dataset and try to converge to optimal parameters.\n",
    "- The *validation/test* loop: iterate over the test dataset to check if model performance is improving."
   ]
  },
  {
   "cell_type": "markdown",
   "metadata": {
    "collapsed": false
   },
   "source": [
    "### The Loss Function\n",
    "\n",
    "Here for classification we use the [`CrossEntropyLoss`](https://pytorch.org/docs/stable/generated/torch.nn.CrossEntropyLoss.html#torch.nn.CrossEntropyLoss), which combines `LogSoftmax` with `NLLLoss`.\n",
    "\n"
   ]
  },
  {
   "cell_type": "code",
   "execution_count": 9,
   "metadata": {
    "ExecuteTime": {
     "end_time": "2023-04-09T23:55:34.840560Z",
     "start_time": "2023-04-09T23:55:34.826541Z"
    },
    "collapsed": false
   },
   "outputs": [],
   "source": [
    "loss_func = nn.CrossEntropyLoss()"
   ]
  },
  {
   "cell_type": "markdown",
   "metadata": {
    "collapsed": false
   },
   "source": [
    "### The Optimizer\n",
    "\n",
    "Here we use the `SGD` optimizer,"
   ]
  },
  {
   "cell_type": "code",
   "execution_count": 10,
   "metadata": {
    "collapsed": false
   },
   "outputs": [],
   "source": [
    "optimizer = torch.optim.SGD(model.parameters(), lr=learning_rate)"
   ]
  },
  {
   "attachments": {},
   "cell_type": "markdown",
   "metadata": {},
   "source": [
    "Inside a training loop, the optimization proceeds in the following three steps,\n",
    "- Call `optimizer.zero_grad()` to reset the gradients of model parameters. Gradients add up by default, so to prevent double counting, we explicitly set them to zero at each iteration.\n",
    "- Backpropagate the prediction loss with `loss.backward()`.\n",
    "- After gradient computation, call `optimizer.step()` to adjust the parameters based on the backpropagation."
   ]
  },
  {
   "cell_type": "code",
   "execution_count": 11,
   "metadata": {
    "collapsed": false
   },
   "outputs": [],
   "source": [
    "def train_loop(dataloader, model, loss_func, optimizer):\n",
    "    size = len(dataloader.dataset)\n",
    "    \n",
    "    for batch, (X, y) in enumerate(dataloader):\n",
    "        # compute prediction and loss\n",
    "        pred = model(X)\n",
    "        loss = loss_func(pred, y)\n",
    "        \n",
    "        # backpropagation\n",
    "        optimizer.zero_grad()\n",
    "        loss.backward()\n",
    "        optimizer.step()\n",
    "\n",
    "        # print loss\n",
    "        if batch % 100 == 0:\n",
    "            loss, current = loss.item(), batch * len(X)\n",
    "            print(f\"loss: {loss:>7f} [{current:>5d}/{size:>5d}]\")"
   ]
  },
  {
   "cell_type": "code",
   "execution_count": 12,
   "metadata": {},
   "outputs": [],
   "source": [
    "def test_loop(dataloader, model, loss_func):\n",
    "    size = len(dataloader.dataset)\n",
    "    num_batches = len(dataloader)\n",
    "    test_loss, correct = 0, 0\n",
    "    \n",
    "    with torch.no_grad():\n",
    "        for X, y in dataloader:\n",
    "            pred = model(X)\n",
    "            test_loss += loss_func(pred, y).item()\n",
    "            correct += (pred.argmax(1) == y).type(torch.float).sum().item()\n",
    "    \n",
    "    test_loss /= num_batches\n",
    "    correct /= size\n",
    "    \n",
    "    print(f\"Test Error: \\n Accuracy: {(100*correct):>0.1f}%, Avg loss: {test_loss:>8f} \\n\")"
   ]
  },
  {
   "cell_type": "code",
   "execution_count": 13,
   "metadata": {},
   "outputs": [
    {
     "name": "stdout",
     "output_type": "stream",
     "text": [
      "Epoch 1: \n",
      "loss: 2.299685 [    0/60000]\n",
      "loss: 2.292084 [ 6400/60000]\n",
      "loss: 2.275720 [12800/60000]\n",
      "loss: 2.267535 [19200/60000]\n",
      "loss: 2.251242 [25600/60000]\n",
      "loss: 2.230010 [32000/60000]\n",
      "loss: 2.234291 [38400/60000]\n",
      "loss: 2.203198 [44800/60000]\n",
      "loss: 2.199979 [51200/60000]\n",
      "loss: 2.167207 [57600/60000]\n",
      "Test Error: \n",
      " Accuracy: 39.0%, Avg loss: 2.163139 \n",
      "\n",
      "Epoch 2: \n",
      "loss: 2.176700 [    0/60000]\n",
      "loss: 2.168253 [ 6400/60000]\n",
      "loss: 2.112622 [12800/60000]\n",
      "loss: 2.116625 [19200/60000]\n",
      "loss: 2.074771 [25600/60000]\n",
      "loss: 2.022033 [32000/60000]\n",
      "loss: 2.041827 [38400/60000]\n",
      "loss: 1.964614 [44800/60000]\n",
      "loss: 1.971562 [51200/60000]\n",
      "loss: 1.895895 [57600/60000]\n",
      "Test Error: \n",
      " Accuracy: 48.5%, Avg loss: 1.893303 \n",
      "\n",
      "Epoch 3: \n",
      "loss: 1.937817 [    0/60000]\n",
      "loss: 1.905373 [ 6400/60000]\n",
      "loss: 1.784002 [12800/60000]\n",
      "loss: 1.805810 [19200/60000]\n",
      "loss: 1.714355 [25600/60000]\n",
      "loss: 1.664854 [32000/60000]\n",
      "loss: 1.683375 [38400/60000]\n",
      "loss: 1.582166 [44800/60000]\n",
      "loss: 1.613850 [51200/60000]\n",
      "loss: 1.510762 [57600/60000]\n",
      "Test Error: \n",
      " Accuracy: 56.4%, Avg loss: 1.524117 \n",
      "\n",
      "Epoch 4: \n",
      "loss: 1.602568 [    0/60000]\n",
      "loss: 1.566841 [ 6400/60000]\n",
      "loss: 1.412033 [12800/60000]\n",
      "loss: 1.471542 [19200/60000]\n",
      "loss: 1.369618 [25600/60000]\n",
      "loss: 1.359368 [32000/60000]\n",
      "loss: 1.379069 [38400/60000]\n",
      "loss: 1.296543 [44800/60000]\n",
      "loss: 1.335981 [51200/60000]\n",
      "loss: 1.246318 [57600/60000]\n",
      "Test Error: \n",
      " Accuracy: 61.0%, Avg loss: 1.265267 \n",
      "\n",
      "Epoch 5: \n",
      "loss: 1.348572 [    0/60000]\n",
      "loss: 1.331719 [ 6400/60000]\n",
      "loss: 1.160601 [12800/60000]\n",
      "loss: 1.260127 [19200/60000]\n",
      "loss: 1.145506 [25600/60000]\n",
      "loss: 1.163730 [32000/60000]\n",
      "loss: 1.193540 [38400/60000]\n",
      "loss: 1.120629 [44800/60000]\n",
      "loss: 1.161741 [51200/60000]\n",
      "loss: 1.088828 [57600/60000]\n",
      "Test Error: \n",
      " Accuracy: 63.6%, Avg loss: 1.103311 \n",
      "\n",
      "Epoch 6: \n",
      "loss: 1.178689 [    0/60000]\n",
      "loss: 1.182861 [ 6400/60000]\n",
      "loss: 0.993948 [12800/60000]\n",
      "loss: 1.125937 [19200/60000]\n",
      "loss: 1.003593 [25600/60000]\n",
      "loss: 1.029561 [32000/60000]\n",
      "loss: 1.075195 [38400/60000]\n",
      "loss: 1.005967 [44800/60000]\n",
      "loss: 1.045438 [51200/60000]\n",
      "loss: 0.986563 [57600/60000]\n",
      "Test Error: \n",
      " Accuracy: 65.4%, Avg loss: 0.996028 \n",
      "\n",
      "Epoch 7: \n",
      "loss: 1.058284 [    0/60000]\n",
      "loss: 1.084272 [ 6400/60000]\n",
      "loss: 0.877484 [12800/60000]\n",
      "loss: 1.033905 [19200/60000]\n",
      "loss: 0.911533 [25600/60000]\n",
      "loss: 0.932759 [32000/60000]\n",
      "loss: 0.995681 [38400/60000]\n",
      "loss: 0.929240 [44800/60000]\n",
      "loss: 0.963330 [51200/60000]\n",
      "loss: 0.917087 [57600/60000]\n",
      "Test Error: \n",
      " Accuracy: 66.8%, Avg loss: 0.921715 \n",
      "\n",
      "Epoch 8: \n",
      "loss: 0.968846 [    0/60000]\n",
      "loss: 1.014443 [ 6400/60000]\n",
      "loss: 0.793201 [12800/60000]\n",
      "loss: 0.967591 [19200/60000]\n",
      "loss: 0.848664 [25600/60000]\n",
      "loss: 0.861043 [32000/60000]\n",
      "loss: 0.939084 [38400/60000]\n",
      "loss: 0.876764 [44800/60000]\n",
      "loss: 0.903571 [51200/60000]\n",
      "loss: 0.866505 [57600/60000]\n",
      "Test Error: \n",
      " Accuracy: 68.2%, Avg loss: 0.867588 \n",
      "\n",
      "Epoch 9: \n",
      "loss: 0.899326 [    0/60000]\n",
      "loss: 0.960988 [ 6400/60000]\n",
      "loss: 0.730032 [12800/60000]\n",
      "loss: 0.917307 [19200/60000]\n",
      "loss: 0.803311 [25600/60000]\n",
      "loss: 0.806729 [32000/60000]\n",
      "loss: 0.895963 [38400/60000]\n",
      "loss: 0.839201 [44800/60000]\n",
      "loss: 0.859123 [51200/60000]\n",
      "loss: 0.827625 [57600/60000]\n",
      "Test Error: \n",
      " Accuracy: 69.7%, Avg loss: 0.826313 \n",
      "\n",
      "Epoch 10: \n",
      "loss: 0.843528 [    0/60000]\n",
      "loss: 0.917612 [ 6400/60000]\n",
      "loss: 0.680719 [12800/60000]\n",
      "loss: 0.877798 [19200/60000]\n",
      "loss: 0.768807 [25600/60000]\n",
      "loss: 0.765047 [32000/60000]\n",
      "loss: 0.861138 [38400/60000]\n",
      "loss: 0.811162 [44800/60000]\n",
      "loss: 0.824779 [51200/60000]\n",
      "loss: 0.796256 [57600/60000]\n",
      "Test Error: \n",
      " Accuracy: 71.1%, Avg loss: 0.793522 \n",
      "\n",
      "Done!\n"
     ]
    }
   ],
   "source": [
    "epochs = 10\n",
    "\n",
    "for epoch in range(1, epochs+1):\n",
    "    print(f\"Epoch {epoch}: \")\n",
    "    train_loop(train_dataloader, model, loss_func, optimizer)\n",
    "    test_loop(test_dataloader, model, loss_func)\n",
    "\n",
    "print(\"Done!\")"
   ]
  },
  {
   "cell_type": "code",
   "execution_count": null,
   "metadata": {},
   "outputs": [],
   "source": []
  }
 ],
 "metadata": {
  "kernelspec": {
   "display_name": "Python 3",
   "language": "python",
   "name": "python3"
  },
  "language_info": {
   "codemirror_mode": {
    "name": "ipython",
    "version": 3
   },
   "file_extension": ".py",
   "mimetype": "text/x-python",
   "name": "python",
   "nbconvert_exporter": "python",
   "pygments_lexer": "ipython3",
   "version": "3.10.9"
  }
 },
 "nbformat": 4,
 "nbformat_minor": 0
}
